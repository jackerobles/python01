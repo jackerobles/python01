{
 "cells": [
  {
   "cell_type": "markdown",
   "metadata": {},
   "source": [
    "### Primeros pasos en Python\n",
    "* variables\n",
    "* operadores matematicos\n",
    "* operadores logicos\n",
    "* operadores de comparacion\n",
    "* estructuras de control\n",
    "    - condicionales\n",
    "    - ciclos finitos e infinitos\n",
    "    - funciones\n",
    "* estructuras de datos basicas\n",
    "    - cadenas\n",
    "    - numeros enteros / flotantes\n",
    "    - listas\n",
    "    - diccionarios\n",
    "    - tuplas\n",
    "* fundamentos de programacion orientada a objetos\n"
   ]
  },
  {
   "cell_type": "code",
   "execution_count": 1,
   "metadata": {},
   "outputs": [
    {
     "name": "stdout",
     "output_type": "stream",
     "text": [
      "epale\n"
     ]
    }
   ],
   "source": [
    "print(\"epale\")\n"
   ]
  },
  {
   "cell_type": "code",
   "execution_count": 2,
   "metadata": {},
   "outputs": [],
   "source": [
    "# variables\n",
    "name = \"jacke\"\n"
   ]
  },
  {
   "cell_type": "code",
   "execution_count": 3,
   "metadata": {},
   "outputs": [
    {
     "ename": "SyntaxError",
     "evalue": "unterminated string literal (detected at line 1) (2106803931.py, line 1)",
     "output_type": "error",
     "traceback": [
      "\u001b[1;36m  Cell \u001b[1;32mIn[3], line 1\u001b[1;36m\u001b[0m\n\u001b[1;33m    last.name = \"jacke\u001b[0m\n\u001b[1;37m                ^\u001b[0m\n\u001b[1;31mSyntaxError\u001b[0m\u001b[1;31m:\u001b[0m unterminated string literal (detected at line 1)\n"
     ]
    }
   ],
   "source": [
    "last.name = \"jacke\n",
    "\""
   ]
  },
  {
   "cell_type": "code",
   "execution_count": 4,
   "metadata": {},
   "outputs": [
    {
     "ename": "SyntaxError",
     "evalue": "cannot assign to expression here. Maybe you meant '==' instead of '='? (3274656445.py, line 1)",
     "output_type": "error",
     "traceback": [
      "\u001b[1;36m  Cell \u001b[1;32mIn[4], line 1\u001b[1;36m\u001b[0m\n\u001b[1;33m    last-name = \"jacke\"\u001b[0m\n\u001b[1;37m    ^\u001b[0m\n\u001b[1;31mSyntaxError\u001b[0m\u001b[1;31m:\u001b[0m cannot assign to expression here. Maybe you meant '==' instead of '='?\n"
     ]
    }
   ],
   "source": [
    "last-name = \"jacke\""
   ]
  },
  {
   "cell_type": "code",
   "execution_count": 5,
   "metadata": {},
   "outputs": [],
   "source": [
    "# numeros\n",
    "number1 = 10\n",
    "number2 = 20\n",
    "number3 = 30.55\n"
   ]
  },
  {
   "cell_type": "code",
   "execution_count": 6,
   "metadata": {},
   "outputs": [],
   "source": [
    "# operadores matematicos\n",
    "result_add = number1 + number2\n",
    "result_sub = number1 - number2\n",
    "result_mult = number1 * number2\n",
    "result_div = number1 / number2"
   ]
  },
  {
   "cell_type": "code",
   "execution_count": 14,
   "metadata": {},
   "outputs": [
    {
     "name": "stdout",
     "output_type": "stream",
     "text": [
      "Este es el resultado de la suma: 30\n",
      "-10\n",
      "Resultado de la multiplicacion:200\n"
     ]
    }
   ],
   "source": [
    "print(\"Este es el resultado de la suma:\", result_add )\n",
    "\n",
    "print( result_sub )\n",
    "print(f\"Resultado de la multiplicacion:{result_mult}\")"
   ]
  },
  {
   "cell_type": "markdown",
   "metadata": {},
   "source": [
    "# Operadores booleanos\n",
    "True\n",
    "False\n",
    "\n"
   ]
  },
  {
   "cell_type": "markdown",
   "metadata": {},
   "source": [
    "# operadores de comparacion\n",
    "# mayor que\n",
    "# menor que\n",
    "# mayor o igual que\n",
    "# menor o igual que \n",
    "# igual ==\n",
    "# diferente !="
   ]
  }
 ],
 "metadata": {
  "kernelspec": {
   "display_name": "Python 3",
   "language": "python",
   "name": "python3"
  },
  "language_info": {
   "codemirror_mode": {
    "name": "ipython",
    "version": 3
   },
   "file_extension": ".py",
   "mimetype": "text/x-python",
   "name": "python",
   "nbconvert_exporter": "python",
   "pygments_lexer": "ipython3",
   "version": "3.13.0"
  }
 },
 "nbformat": 4,
 "nbformat_minor": 2
}
